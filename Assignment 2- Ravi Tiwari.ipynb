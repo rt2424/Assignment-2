{
 "cells": [
  {
   "cell_type": "markdown",
   "metadata": {},
   "source": [
    "# Assignment 2 Solution\n",
    "\n"
   ]
  },
  {
   "cell_type": "markdown",
   "metadata": {},
   "source": [
    "## Task 1"
   ]
  },
  {
   "cell_type": "markdown",
   "metadata": {},
   "source": [
    "### 1.1"
   ]
  },
  {
   "cell_type": "code",
   "execution_count": 1,
   "metadata": {},
   "outputs": [],
   "source": [
    "def myreduce(Func,lis):\n",
    "    First=lis[0]\n",
    "    for i in lis[1:]:\n",
    "        First=Func(First,i)\n",
    "    return First\n",
    "\n",
    "    "
   ]
  },
  {
   "cell_type": "code",
   "execution_count": 2,
   "metadata": {},
   "outputs": [
    {
     "name": "stdout",
     "output_type": "stream",
     "text": [
      "4535\n"
     ]
    }
   ],
   "source": [
    "numbers=[4,7,56,34,2,456,575,4535,3424,3]\n",
    "print(myreduce(lambda a,b: a if a>b else b,numbers))"
   ]
  },
  {
   "cell_type": "markdown",
   "metadata": {},
   "source": [
    "### 1.2"
   ]
  },
  {
   "cell_type": "code",
   "execution_count": 4,
   "metadata": {},
   "outputs": [],
   "source": [
    "def myfilter(Funct,li):\n",
    "    j=[]\n",
    "    for i in li:\n",
    "        if Funct(i)==True:\n",
    "            j.append(i)\n",
    "    return j\n",
    "    "
   ]
  },
  {
   "cell_type": "code",
   "execution_count": 5,
   "metadata": {},
   "outputs": [
    {
     "name": "stdout",
     "output_type": "stream",
     "text": [
      "[576, 3434, 354, 576]\n"
     ]
    }
   ],
   "source": [
    "sequence=[23,45,576,4545,3434,354,576,787]\n",
    "result=myfilter(lambda a:a%2==0,sequence)\n",
    "print(result)"
   ]
  },
  {
   "cell_type": "markdown",
   "metadata": {},
   "source": [
    "### 2"
   ]
  },
  {
   "cell_type": "code",
   "execution_count": 10,
   "metadata": {},
   "outputs": [
    {
     "name": "stdout",
     "output_type": "stream",
     "text": [
      "['A', 'C', 'A', 'D', 'G', 'I', 'L', 'D']\n"
     ]
    }
   ],
   "source": [
    "string='ACADGILD'\n",
    "l=[]\n",
    "for i in string:\n",
    "    l.append(i)\n",
    "print(l)\n",
    "    "
   ]
  },
  {
   "cell_type": "code",
   "execution_count": 11,
   "metadata": {},
   "outputs": [
    {
     "name": "stdout",
     "output_type": "stream",
     "text": [
      "['x', 'xx', 'xxx', 'xxxx', 'y', 'yy', 'yyy', 'yyyy', 'z', 'zz', 'zzz', 'zzzz']\n"
     ]
    }
   ],
   "source": [
    "abc=['x','y','z']\n",
    "item=[item*num for item in abc for num in range(1,5)]\n",
    "print (item)"
   ]
  },
  {
   "cell_type": "code",
   "execution_count": 12,
   "metadata": {},
   "outputs": [
    {
     "name": "stdout",
     "output_type": "stream",
     "text": [
      "['x', 'y', 'z', 'xx', 'yy', 'zz', 'xxx', 'yyy', 'zzz', 'xxxx', 'yyyy', 'zzzz']\n"
     ]
    }
   ],
   "source": [
    "abc=['x','y','z']\n",
    "item1=[item1*num for num in range(1,5) for item1 in abc]\n",
    "print(item1)"
   ]
  },
  {
   "cell_type": "code",
   "execution_count": 13,
   "metadata": {},
   "outputs": [
    {
     "name": "stdout",
     "output_type": "stream",
     "text": [
      "[[2], [3], [4], [3], [4], [5], [4], [5], [6]]\n"
     ]
    }
   ],
   "source": [
    "inputlist=[2,3,4]\n",
    "result=[[item+num] for item in inputlist for num in range(0,3)]\n",
    "print(result)\n",
    "    "
   ]
  },
  {
   "cell_type": "code",
   "execution_count": 14,
   "metadata": {},
   "outputs": [
    {
     "name": "stdout",
     "output_type": "stream",
     "text": [
      "[[2, 3, 4, 5], [3, 4, 5, 6], [4, 5, 6, 7], [5, 6, 7, 8]]\n"
     ]
    }
   ],
   "source": [
    "inputt=[2,3,4,5]\n",
    "resultt=[[item+num for item in inputt] for num in range(0,4)]\n",
    "print(resultt)"
   ]
  },
  {
   "cell_type": "code",
   "execution_count": 3,
   "metadata": {},
   "outputs": [
    {
     "name": "stdout",
     "output_type": "stream",
     "text": [
      "[(1, 1), (2, 1), (3, 1), (1, 2), (2, 2), (3, 2), (1, 3), (2, 3), (3, 3)]\n"
     ]
    }
   ],
   "source": [
    "\n",
    "resulttt=[(x,y) for y in range(1,4) for x in range(1,4)]\n",
    "print(resulttt)"
   ]
  },
  {
   "cell_type": "markdown",
   "metadata": {},
   "source": [
    "### 3\n"
   ]
  },
  {
   "cell_type": "code",
   "execution_count": 6,
   "metadata": {},
   "outputs": [
    {
     "name": "stdout",
     "output_type": "stream",
     "text": [
      "Number of elements in list4\n",
      "Element1:Radha\n",
      "Element2:Mumbai\n",
      "Element3:Kolkata\n",
      "Element4:Lakshdweep\n",
      "Longest word is\n",
      "Lakshdweep\n"
     ]
    }
   ],
   "source": [
    "a=[]\n",
    "n= int(input(\"Number of elements in list\"))\n",
    "for x in range(n):\n",
    "    element=input(\"Element\" + str(x+1) + \":\")\n",
    "    a.append(element)\n",
    "max1=len(a[0])\n",
    "longest=a[0]\n",
    "for i in a:\n",
    "    if(len(i)>max1):\n",
    "       max1=len(i)\n",
    "       longest=i\n",
    "print(\"Longest word is\")\n",
    "print(longest)\n"
   ]
  },
  {
   "cell_type": "markdown",
   "metadata": {},
   "source": [
    "## Task 2"
   ]
  },
  {
   "cell_type": "markdown",
   "metadata": {},
   "source": [
    "### 1.1\n"
   ]
  },
  {
   "cell_type": "code",
   "execution_count": 7,
   "metadata": {},
   "outputs": [
    {
     "name": "stdout",
     "output_type": "stream",
     "text": [
      "Please enter the first side of a triangle: 34\n",
      "Please enter the second side of a triangle: 45\n",
      "Please enter the third side of a triangle: 12\n",
      "93.6185745458667\n"
     ]
    }
   ],
   "source": [
    "a = int(input('Please enter the first side of a triangle: '))\n",
    "b = int(input('Please enter the second side of a triangle: '))\n",
    "c = int(input('Please enter the third side of a triangle: '))\n",
    "class LenTriangle():\n",
    "    def __init__(self,a,b,c):\n",
    "        self.a=a\n",
    "        self.b=b\n",
    "        self.c=c\n",
    "class Area(LenTriangle):\n",
    "    def __init__(self,a,b,c):\n",
    "        LenTriangle.__init__(self,a,b,c)\n",
    "    def areaOfTriangle(self):\n",
    "        s=(self.a+self.b+self.c)/2\n",
    "        AreaTri=(s*(s-self.a)*(s-self.b)*(s-self.c)) ** 0.5\n",
    "        return AreaTri\n",
    "    def __str__(self):\n",
    "        print(self.AreaTri)\n",
    "t = Area(a, b, c)\n",
    "print(t.areaOfTriangle())"
   ]
  },
  {
   "cell_type": "markdown",
   "metadata": {},
   "source": [
    "### 1.2"
   ]
  },
  {
   "cell_type": "code",
   "execution_count": 8,
   "metadata": {},
   "outputs": [
    {
     "name": "stdout",
     "output_type": "stream",
     "text": [
      "Enter the number:5\n",
      "Number of elements in list:4\n",
      "Word1:richie\n",
      "Word2:good\n",
      "Word3:better\n",
      "Word4:bad\n",
      "['richie', 'better']\n"
     ]
    }
   ],
   "source": [
    "def filteringlongwords():\n",
    "    m=int(input(\"Enter the number:\"))\n",
    "    a=[]\n",
    "    b=[]\n",
    "    n= int(input(\"Number of elements in list:\"))\n",
    "    for x in range(n):\n",
    "        word=input(\"Word\"+str(x+1)+\":\")\n",
    "        a.append(word)\n",
    "    for i in range(len(a)):\n",
    "        if (len(a[i])>m):\n",
    "            b.append(a[i])\n",
    "    print (b)\n",
    "filteringlongwords()"
   ]
  },
  {
   "cell_type": "markdown",
   "metadata": {},
   "source": [
    "### 2.1"
   ]
  },
  {
   "cell_type": "code",
   "execution_count": 9,
   "metadata": {},
   "outputs": [
    {
     "name": "stdout",
     "output_type": "stream",
     "text": [
      "Enter the number of words in the list:5\n",
      "word1:China\n",
      "word2:Corona\n",
      "word3:Maldives\n",
      "word4:CHarger\n",
      "word5:owner\n",
      "[5, 6, 8, 7, 5]\n"
     ]
    }
   ],
   "source": [
    "def maplisting():\n",
    "    n=int(input(\"Enter the number of words in the list:\"))\n",
    "    listi=[]\n",
    "    numlist=[]\n",
    "    for i in range(n):\n",
    "        word=input(\"word\"+ str(i+1) +\":\")\n",
    "        listi.append(word)\n",
    "    for x in listi:\n",
    "        numlist.append(len(x))\n",
    "    print(numlist)\n",
    "maplisting()\n"
   ]
  },
  {
   "cell_type": "markdown",
   "metadata": {},
   "source": [
    "### 2.2"
   ]
  },
  {
   "cell_type": "code",
   "execution_count": 10,
   "metadata": {},
   "outputs": [
    {
     "name": "stdout",
     "output_type": "stream",
     "text": [
      "Enter a character: p\n"
     ]
    },
    {
     "data": {
      "text/plain": [
       "False"
      ]
     },
     "execution_count": 10,
     "metadata": {},
     "output_type": "execute_result"
    }
   ],
   "source": [
    "def vowelcheck():\n",
    "    n=str(input(\"Enter a character: \"))\n",
    "    vowel=['a','e','i','o','u','A','E','I','O','U']\n",
    "    if (len(n)!=1):\n",
    "        return False\n",
    "    else:\n",
    "        if (n in vowel ):\n",
    "            return True\n",
    "        else:\n",
    "            return False\n",
    "vowelcheck()"
   ]
  },
  {
   "cell_type": "code",
   "execution_count": null,
   "metadata": {},
   "outputs": [],
   "source": []
  }
 ],
 "metadata": {
  "kernelspec": {
   "display_name": "Python 3",
   "language": "python",
   "name": "python3"
  },
  "language_info": {
   "codemirror_mode": {
    "name": "ipython",
    "version": 3
   },
   "file_extension": ".py",
   "mimetype": "text/x-python",
   "name": "python",
   "nbconvert_exporter": "python",
   "pygments_lexer": "ipython3",
   "version": "3.7.6"
  }
 },
 "nbformat": 4,
 "nbformat_minor": 4
}
